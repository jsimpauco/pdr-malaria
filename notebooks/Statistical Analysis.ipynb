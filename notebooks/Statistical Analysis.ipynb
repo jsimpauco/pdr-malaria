{
 "cells": [
  {
   "cell_type": "code",
   "execution_count": null,
   "id": "26cf40dc-a664-4754-9ac3-65bf763bddc1",
   "metadata": {},
   "outputs": [],
   "source": [
    "import pandas as pd\n",
    "import seaborn as sns\n",
    "import matplotlib.pyplot as plt\n",
    "from Bio import SeqIO\n",
    "from itertools import product\n",
    "from collections import Counter"
   ]
  },
  {
   "cell_type": "code",
   "execution_count": null,
   "id": "5b610bdf-4de0-40b5-81a3-5894eeb8f832",
   "metadata": {},
   "outputs": [],
   "source": [
    "\n",
    "filename = '../data/Plasmodium_falciparum_3D7_Genome.fasta'"
   ]
  },
  {
   "cell_type": "code",
   "execution_count": null,
   "id": "fd83e735-e8be-4c03-b181-204ba247d0ad",
   "metadata": {},
   "outputs": [],
   "source": [
    "record_dict = SeqIO.to_dict(SeqIO.parse(filename, 'fasta'))"
   ]
  },
  {
   "cell_type": "code",
   "execution_count": null,
   "id": "8af21ca4-6f97-4f8b-978e-87970db6dfea",
   "metadata": {},
   "outputs": [],
   "source": [
    "sequences = []\n",
    "for key in record_dict.keys():\n",
    "    sequences.append(list(record_dict[key].seq))"
   ]
  },
  {
   "cell_type": "code",
   "execution_count": null,
   "id": "ef065996-99c9-40f1-8934-aa9a6a63ffb8",
   "metadata": {},
   "outputs": [],
   "source": [
    "df = pd.DataFrame.from_dict({'chromosome_id': list(record_dict.keys()), 'sequence': sequences})\n",
    "df['length'] = df['sequence'].apply(lambda s: len(s))"
   ]
  },
  {
   "cell_type": "code",
   "execution_count": null,
   "id": "31cb3f66-9dbd-48d7-abdb-0fb684bd8052",
   "metadata": {},
   "outputs": [],
   "source": [
    "df"
   ]
  },
  {
   "cell_type": "code",
   "execution_count": null,
   "id": "a3ee3bcb-8ba1-47d3-802a-2f2013c95831",
   "metadata": {},
   "outputs": [],
   "source": [
    "chunk_size = 512\n",
    "\n",
    "def split_into_chunks(sequence, chunk_size):\n",
    "    \"\"\"\n",
    "    Splits a sequence into fixed-size chunks of `chunk_size`.\n",
    "    \"\"\"\n",
    "    return [sequence[i:i + chunk_size] for i in range(0, len(sequence), chunk_size)]\n",
    "\n",
    "# Create a new DataFrame where each row represents a chunk\n",
    "chunked_data = []\n",
    "for idx, row in df.iterrows():\n",
    "    sequence_chunks = split_into_chunks(row['sequence'], chunk_size)\n",
    "    for chunk_index, chunk in enumerate(sequence_chunks):\n",
    "        chunked_data.append({\n",
    "            'chromosome_id': row['chromosome_id'],\n",
    "            'chunk': chunk,\n",
    "            'chunk_index': chunk_index\n",
    "        })\n",
    "\n",
    "# Create the new DataFrame\n",
    "chunked_df = pd.DataFrame(chunked_data)\n",
    "\n",
    "# Display the first few rows of the resulting DataFrame\n",
    "chunked_df.head(-5)"
   ]
  },
  {
   "cell_type": "code",
   "execution_count": null,
   "id": "f90a5b51-f4ad-4d3c-a142-1631b5866fa6",
   "metadata": {},
   "outputs": [],
   "source": [
    "# Add a column for chunk lengths #\n",
    "chunked_df['chunk_length'] = chunked_df['chunk'].apply(len)\n",
    "num_chromosomes = chunked_df['chromosome_id'].nunique()\n",
    "total_chunks = len(chunked_df)\n",
    "chunk_length_stats = chunked_df['chunk_length'].describe()\n",
    "\n",
    "# Nucleotide Composition Analysis #\n",
    "def nucleotide_composition(chunk):\n",
    "    counts = Counter(chunk)\n",
    "    total = sum(counts.values())\n",
    "    return {nuc: counts.get(nuc, 0) / total for nuc in 'ATCG'}\n",
    "\n",
    "chunked_df['nucleotide_composition'] = chunked_df['chunk'].apply(nucleotide_composition)\n",
    "composition_df = pd.DataFrame(chunked_df['nucleotide_composition'].tolist(), index=chunked_df.index)\n",
    "overall_composition = composition_df.mean()\n",
    "\n",
    "# Visualization: Overall Nucleotide Composition #\n",
    "composition_df.mean().plot(kind='bar', title='Overall Nucleotide Composition')\n",
    "plt.xlabel('Nucleotide')\n",
    "plt.ylabel('Proportion')\n",
    "plt.show()"
   ]
  },
  {
   "cell_type": "code",
   "execution_count": null,
   "id": "d2b9b489-3434-4689-890f-31e683a40920",
   "metadata": {},
   "outputs": [],
   "source": [
    "# Step 4: K-mer Frequency Analysis #\n",
    "def kmer_frequency(chunk, k=3):\n",
    "    if len(chunk) < k:\n",
    "        return {''.join(kmer): 0 for kmer in product('ATCG', repeat=k)}\n",
    "    kmers = [''.join(kmer) for kmer in product('ATCG', repeat=k)]\n",
    "    counts = Counter([''.join(chunk[i:i+k]) for i in range(len(chunk) - k + 1)])\n",
    "    total = sum(counts.values())\n",
    "    return {kmer: counts.get(kmer, 0) / total for kmer in kmers}\n",
    "\n",
    "chunked_df['kmer_frequency'] = chunked_df['chunk'].apply(kmer_frequency)\n",
    "kmer_df = pd.DataFrame(chunked_df['kmer_frequency'].tolist(), index=chunked_df.index)\n",
    "\n",
    "# Visualization: Heatmap of K-mer Frequencies #\n",
    "sns.heatmap(kmer_df.iloc[:10], cmap='viridis')\n",
    "plt.title('K-mer Frequency (Sample Chunks)')\n",
    "plt.xlabel('K-mers')\n",
    "plt.ylabel('Chunks')\n",
    "plt.show()"
   ]
  },
  {
   "cell_type": "code",
   "execution_count": null,
   "id": "697b65ba-2f01-4775-a7ea-096fca6b5f08",
   "metadata": {},
   "outputs": [],
   "source": [
    "# Calculate GC content for each chunk (proportion of G and C nucleotides) #\n",
    "chunked_df['gc_content'] = chunked_df['chunk'].apply(\n",
    "    lambda chunk: (chunk.count('G') + chunk.count('C')) / len(chunk) if len(chunk) > 0 else 0\n",
    ")\n",
    "\n",
    "# Visualize GC content with a histogram and mark the average with a red line #\n",
    "plt.hist(chunked_df['gc_content'], bins=30, alpha=0.75, edgecolor='black', color='green')\n",
    "plt.axvline(chunked_df['gc_content'].mean(), color='red', linestyle='--', label='Mean GC Content')\n",
    "plt.title('GC Content Distribution')\n",
    "plt.xlabel('GC Content')\n",
    "plt.ylabel('Frequency')\n",
    "plt.legend()\n",
    "plt.show()\n",
    "\n",
    "# Calculate similarity between consecutive chunks in the same chromosome #\n",
    "def calculate_similarity(seq1, seq2):\n",
    "    if seq1 is None or seq2 is None:\n",
    "        return None\n",
    "    min_len = min(len(seq1), len(seq2))\n",
    "    return sum(1 for a, b in zip(seq1[:min_len], seq2[:min_len]) if a == b) / min_len\n",
    "\n",
    "chunked_df['chunk_similarity'] = (\n",
    "    chunked_df.groupby('chromosome_id')['chunk']\n",
    "    .apply(lambda group: group.shift().combine(group, calculate_similarity))\n",
    "    .reset_index(level=0, drop=True)\n",
    ")\n",
    "\n",
    "# Check correlation between GC content and chunk similarity #\n",
    "gc_similarity_correlation = chunked_df[['gc_content', 'chunk_similarity']].corr()\n",
    "print('GC-Similarity Correlation:\\n', gc_similarity_correlation)\n",
    "\n",
    "# Plot the distribution of transition/transversion ratios (if available) #\n",
    "try:\n",
    "    plt.hist(chunked_df['transition_transversion_ratio'], bins=30, alpha=0.75, edgecolor='black')\n",
    "    plt.title('Transition/Transversion Ratio Distribution')\n",
    "    plt.xlabel('Transition/Transversion Ratio')\n",
    "    plt.ylabel('Frequency')\n",
    "    plt.show()\n",
    "except:\n",
    "    pass"
   ]
  }
 ],
 "metadata": {
  "kernelspec": {
   "display_name": "pdr",
   "language": "python",
   "name": "python3"
  },
  "language_info": {
   "codemirror_mode": {
    "name": "ipython",
    "version": 3
   },
   "file_extension": ".py",
   "mimetype": "text/x-python",
   "name": "python",
   "nbconvert_exporter": "python",
   "pygments_lexer": "ipython3",
   "version": "3.9.21"
  }
 },
 "nbformat": 4,
 "nbformat_minor": 5
}
