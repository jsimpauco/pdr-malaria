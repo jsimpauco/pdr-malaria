{
 "cells": [
  {
   "cell_type": "code",
   "execution_count": 7,
   "id": "5423dd43-67df-4539-9042-dea4d6a4f22f",
   "metadata": {},
   "outputs": [],
   "source": [
    "from Bio import SeqIO\n",
    "import pandas as pd\n",
    "import os"
   ]
  },
  {
   "cell_type": "code",
   "execution_count": 13,
   "id": "9590a7f1-2e98-4834-b49b-c9be4d7bd69e",
   "metadata": {},
   "outputs": [],
   "source": [
    "#Together, these two functions take a large fasta file and create strings of the nucleotide data contained \n",
    "#within into seperate files for each speciemen of malaria included in the file\n",
    "\n",
    "#RUNNING THESE WILL CREATE FILES\n",
    "def _helper(filename = \"Plasmodium_falciparum_3D7_Genome.fasta\"):\n",
    "    #parses file with genome into dictionary format\n",
    "    record_dict = SeqIO.to_dict(SeqIO.parse(filename, \"fasta\"))\n",
    "    for key in record_dict.keys():\n",
    "        yield record_dict[key].seq, key\n",
    "def create_helperdata(CHUNCK_SIZE=512):\n",
    "    for sequence, name in iter(_helper()):\n",
    "    with open(f\"{name}.txt\", \"w\") as f:\n",
    "        chuncks = len(sequence) // CHUNCK_SIZE\n",
    "        for i in range(chuncks):\n",
    "            indx = i*CHUNCK_SIZE\n",
    "            chunck = sequence[indx:indx+CHUNCK_SIZE]\n",
    "            f.write(f\"{chunck}\\n\")\n",
    "\n",
    "            "
   ]
  },
  {
   "cell_type": "code",
   "execution_count": 1,
   "id": "49145c98-4e6d-4ef0-b734-6e4348497d5e",
   "metadata": {},
   "outputs": [],
   "source": [
    "#Each file contains many instances of strings of size=CHUNK_SIZE (default 512), these functions pairs each chunk with it's neighbors\n",
    "def create_onepairs(filename):\n",
    "    with open(filename) as f:\n",
    "        lines = [line.rstrip('\\n') for line in f]\n",
    "    lines = list(zip(lines[:-1], lines[1:]))\n",
    "    return lines\n",
    "\n",
    "def create_pairedData(folder_path = \"data\"):\n",
    "    filenames = []\n",
    "    for filename in os.listdir(folder_path):\n",
    "        if '.txt' in filename:\n",
    "            f = \"data/\" + filename\n",
    "            filenames.append(f)\n",
    "    pairs = []\n",
    "    for file in filenames:\n",
    "        pair = create_onepairs(file)\n",
    "        pairs = pairs + pair\n",
    "    return pairs"
   ]
  },
  {
   "cell_type": "code",
   "execution_count": 28,
   "id": "7cea81be-883e-4a73-b7ce-45ce299e7fef",
   "metadata": {},
   "outputs": [],
   "source": [
    "\"\"\"from tokenizers import Tokenizer, normalizers, pre_tokenizers\n",
    "from tokenizers.models import WordLevel\n",
    "tokenizer = Tokenizer(WordLevel(unk_token=\"[UNK]\"))\n",
    "from tokenizers.trainers import WordLevelTrainer\n",
    "trainer = WordLevelTrainer(special_tokens=[\"[UNK]\", \"[CLS]\", \"[SEP]\", \"[PAD]\", \"[MASK]\"])\n",
    "tokenizer.normalizer = normalizers.BertNormalizer(lowercase=True)\n",
    "tokenizer.pre_tokenizer = pre_tokenizers.BertPreTokenizer()\n",
    "from tokenizers.pre_tokenizers import ByteLevel\n",
    "tokenizer.pre_tokenizer = ByteLevel()\n",
    "files = [f'data/Nucleotides.txt']\n",
    "tokenizer.train(files, trainer)\n",
    "output = tokenizer.encode(\"A GTCG CGCGCGTTTTAA\")\"\"\""
   ]
  },
  {
   "cell_type": "code",
   "execution_count": 2,
   "id": "176aec79-fb1b-4c22-964f-c7bb53cf53d9",
   "metadata": {},
   "outputs": [],
   "source": [
    "#Custom tokenizer for the nucleotide data\n",
    "class tokenizer():\n",
    "    def __init__(self, vocab, special_tokens):\n",
    "        #vocab is given as a list of all words \n",
    "        #but will turn into a dictionary with words as keys and integers as values\n",
    "\n",
    "        #special_tokens are extra symbols that aren't standard words, \n",
    "        #but rather used to delimit or do something within the text\n",
    "\n",
    "        self.vocab = special_tokens + vocab\n",
    "        self.tokens = {}\n",
    "        d = {}\n",
    "        for i in range(len(self.vocab)):\n",
    "            d[self.vocab[i]] = i\n",
    "            self.tokens[i] = self.vocab[i]\n",
    "        self.vocab = d\n",
    "\n",
    "            \n",
    "\n",
    "    def convert_ids_to_tokens(self, ids):\n",
    "        #ids are a list of integers that represent the encoded words\n",
    "        #this function will convert each integer into a word\n",
    "        #Ex. ids = [0, 3, 4, 1] dict={0: 'word1', 1: 'word2', 2:'word3', 3:'word4', 4:'word5'}\n",
    "        self.output_ids = []\n",
    "        for oneid in ids:\n",
    "            if oneid not in self.tokens.keys():\n",
    "                self.input_ids.append(self.tokens['[UNK]'])\n",
    "                continue\n",
    "            self.output_ids.append(self.tokens[oneid])\n",
    "        return self.output_ids\n",
    "\n",
    "    def __call__(self, sequence):\n",
    "        #sequence is a list of nucleotides\n",
    "        #use tokenizer on a sequence of nucleotides to output the resulting integers that are mapped to each nucleotide\n",
    "        self.input_ids = {'input_ids':[]}\n",
    "        for nucleotide in sequence:\n",
    "            if nucleotide not in self.vocab.keys():\n",
    "                self.input_ids['input_ids'].append(self.vocab['[UNK]'])\n",
    "                continue\n",
    "            self.input_ids['input_ids'].append(self.vocab[nucleotide])\n",
    "        return self.input_ids\n",
    "\n",
    "        "
   ]
  },
  {
   "cell_type": "code",
   "execution_count": 45,
   "id": "4fb2d578-08a9-425c-bfaf-ec5efd5d6ae0",
   "metadata": {},
   "outputs": [],
   "source": [
    "t = tokenizer(vocab=['A', 'T', 'G', 'C'], \n",
    "          special_tokens=['[PAD]', '[CLS]', '[SEP]', '[MASK]', '[UNK]'])"
   ]
  }
 ],
 "metadata": {
  "kernelspec": {
   "display_name": "Python 3 (ipykernel)",
   "language": "python",
   "name": "python3"
  },
  "language_info": {
   "codemirror_mode": {
    "name": "ipython",
    "version": 3
   },
   "file_extension": ".py",
   "mimetype": "text/x-python",
   "name": "python",
   "nbconvert_exporter": "python",
   "pygments_lexer": "ipython3",
   "version": "3.11.7"
  }
 },
 "nbformat": 4,
 "nbformat_minor": 5
}
